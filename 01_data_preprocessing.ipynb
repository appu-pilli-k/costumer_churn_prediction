{
 "cells": [
  {
   "cell_type": "code",
   "execution_count": 4,
   "id": "11077077",
   "metadata": {
    "vscode": {
     "languageId": "plaintext"
    }
   },
   "outputs": [
    {
     "name": "stdout",
     "output_type": "stream",
     "text": [
      "Data preprocessing completed.\n"
     ]
    }
   ],
   "source": [
    "import pandas as pd\n",
    "import matplotlib.pyplot as plt\n",
    "import seaborn as sns\n",
    "from sklearn.preprocessing import LabelEncoder\n",
    "\n",
    "# 2. Load dataset (with raw string literal for the file path)\n",
    "df = pd.read_csv(r\"C:\\Users\\Appu\\Downloads\\churn_data.csv\")\n",
    "df.head()\n",
    "\n",
    "# 3. Drop unnecessary columns\n",
    "df = df.drop(['CustomerId'], axis=1)  # Drop identifier\n",
    "\n",
    "# 4. Encode categorical variables\n",
    "le = LabelEncoder()\n",
    "df['Gender'] = le.fit_transform(df['Gender'])       # Female = 0, Male = 1\n",
    "df['Geography'] = le.fit_transform(df['Geography']) # France = 0, Spain = 1 (in this dataset)\n",
    "\n",
    "# 5. Handle missing values (if any)\n",
    "df.ffill(inplace=True)  # Fill missing values using forward fill\n",
    "\n",
    "# 6. Feature and target selection\n",
    "features = ['CreditScore', 'Geography', 'Gender', 'Age', 'Balance', 'NumOfProducts', 'IsActiveMember', 'EstimatedSalary']\n",
    "X = df[features]\n",
    "y = df['Exited']\n",
    "\n",
    "# 7. Save cleaned data\n",
    "X.to_csv('../data/X_clean.csv', index=False)\n",
    "y.to_csv('../data/y_clean.csv', index=False)\n",
    "\n",
    "print(\"Data preprocessing completed.\")\n"
   ]
  },
  {
   "cell_type": "code",
   "execution_count": null,
   "id": "b65e12e5-30bb-451f-8aa2-e2738df91ce4",
   "metadata": {},
   "outputs": [],
   "source": []
  },
  {
   "cell_type": "code",
   "execution_count": null,
   "id": "7dd698e9-21af-4604-a90b-0da371e9c021",
   "metadata": {},
   "outputs": [],
   "source": []
  },
  {
   "cell_type": "code",
   "execution_count": null,
   "id": "0d7d04bd-77ee-4d81-a756-58461e64a929",
   "metadata": {},
   "outputs": [],
   "source": []
  }
 ],
 "metadata": {
  "kernelspec": {
   "display_name": "Python 3 (ipykernel)",
   "language": "python",
   "name": "python3"
  },
  "language_info": {
   "codemirror_mode": {
    "name": "ipython",
    "version": 3
   },
   "file_extension": ".py",
   "mimetype": "text/x-python",
   "name": "python",
   "nbconvert_exporter": "python",
   "pygments_lexer": "ipython3",
   "version": "3.11.5"
  }
 },
 "nbformat": 4,
 "nbformat_minor": 5
}
